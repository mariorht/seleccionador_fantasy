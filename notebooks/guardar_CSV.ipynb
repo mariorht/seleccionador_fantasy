{
 "cells": [
  {
   "cell_type": "code",
   "execution_count": 5,
   "metadata": {},
   "outputs": [
    {
     "name": "stderr",
     "output_type": "stream",
     "text": [
      "c:\\Users\\mario\\Documents\\proyectos\\recomendador_biwenger\\data_extraction\\SofascoreDataExtractor.py:188: FutureWarning: The behavior of DataFrame concatenation with empty or all-NA entries is deprecated. In a future version, this will no longer exclude empty or all-NA columns when determining the result dtypes. To retain the old behavior, exclude the relevant entries before the concat operation.\n",
      "  all_players_stats = pd.concat([all_players_stats, df], ignore_index=True)\n",
      "c:\\Users\\mario\\Documents\\proyectos\\recomendador_biwenger\\data_extraction\\SofascoreDataExtractor.py:188: FutureWarning: The behavior of DataFrame concatenation with empty or all-NA entries is deprecated. In a future version, this will no longer exclude empty or all-NA columns when determining the result dtypes. To retain the old behavior, exclude the relevant entries before the concat operation.\n",
      "  all_players_stats = pd.concat([all_players_stats, df], ignore_index=True)\n",
      "c:\\Users\\mario\\Documents\\proyectos\\recomendador_biwenger\\data_extraction\\SofascoreDataExtractor.py:188: FutureWarning: The behavior of DataFrame concatenation with empty or all-NA entries is deprecated. In a future version, this will no longer exclude empty or all-NA columns when determining the result dtypes. To retain the old behavior, exclude the relevant entries before the concat operation.\n",
      "  all_players_stats = pd.concat([all_players_stats, df], ignore_index=True)\n",
      "c:\\Users\\mario\\Documents\\proyectos\\recomendador_biwenger\\data_extraction\\SofascoreDataExtractor.py:188: FutureWarning: The behavior of DataFrame concatenation with empty or all-NA entries is deprecated. In a future version, this will no longer exclude empty or all-NA columns when determining the result dtypes. To retain the old behavior, exclude the relevant entries before the concat operation.\n",
      "  all_players_stats = pd.concat([all_players_stats, df], ignore_index=True)\n",
      "c:\\Users\\mario\\Documents\\proyectos\\recomendador_biwenger\\data_extraction\\SofascoreDataExtractor.py:188: FutureWarning: The behavior of DataFrame concatenation with empty or all-NA entries is deprecated. In a future version, this will no longer exclude empty or all-NA columns when determining the result dtypes. To retain the old behavior, exclude the relevant entries before the concat operation.\n",
      "  all_players_stats = pd.concat([all_players_stats, df], ignore_index=True)\n",
      "c:\\Users\\mario\\Documents\\proyectos\\recomendador_biwenger\\data_extraction\\SofascoreDataExtractor.py:188: FutureWarning: The behavior of DataFrame concatenation with empty or all-NA entries is deprecated. In a future version, this will no longer exclude empty or all-NA columns when determining the result dtypes. To retain the old behavior, exclude the relevant entries before the concat operation.\n",
      "  all_players_stats = pd.concat([all_players_stats, df], ignore_index=True)\n",
      "c:\\Users\\mario\\Documents\\proyectos\\recomendador_biwenger\\data_extraction\\SofascoreDataExtractor.py:188: FutureWarning: The behavior of DataFrame concatenation with empty or all-NA entries is deprecated. In a future version, this will no longer exclude empty or all-NA columns when determining the result dtypes. To retain the old behavior, exclude the relevant entries before the concat operation.\n",
      "  all_players_stats = pd.concat([all_players_stats, df], ignore_index=True)\n",
      "c:\\Users\\mario\\Documents\\proyectos\\recomendador_biwenger\\data_extraction\\SofascoreDataExtractor.py:188: FutureWarning: The behavior of DataFrame concatenation with empty or all-NA entries is deprecated. In a future version, this will no longer exclude empty or all-NA columns when determining the result dtypes. To retain the old behavior, exclude the relevant entries before the concat operation.\n",
      "  all_players_stats = pd.concat([all_players_stats, df], ignore_index=True)\n",
      "c:\\Users\\mario\\Documents\\proyectos\\recomendador_biwenger\\data_extraction\\SofascoreDataExtractor.py:188: FutureWarning: The behavior of DataFrame concatenation with empty or all-NA entries is deprecated. In a future version, this will no longer exclude empty or all-NA columns when determining the result dtypes. To retain the old behavior, exclude the relevant entries before the concat operation.\n",
      "  all_players_stats = pd.concat([all_players_stats, df], ignore_index=True)\n",
      "c:\\Users\\mario\\Documents\\proyectos\\recomendador_biwenger\\data_extraction\\SofascoreDataExtractor.py:188: FutureWarning: The behavior of DataFrame concatenation with empty or all-NA entries is deprecated. In a future version, this will no longer exclude empty or all-NA columns when determining the result dtypes. To retain the old behavior, exclude the relevant entries before the concat operation.\n",
      "  all_players_stats = pd.concat([all_players_stats, df], ignore_index=True)\n",
      "c:\\Users\\mario\\Documents\\proyectos\\recomendador_biwenger\\data_extraction\\SofascoreDataExtractor.py:188: FutureWarning: The behavior of DataFrame concatenation with empty or all-NA entries is deprecated. In a future version, this will no longer exclude empty or all-NA columns when determining the result dtypes. To retain the old behavior, exclude the relevant entries before the concat operation.\n",
      "  all_players_stats = pd.concat([all_players_stats, df], ignore_index=True)\n",
      "c:\\Users\\mario\\Documents\\proyectos\\recomendador_biwenger\\data_extraction\\SofascoreDataExtractor.py:188: FutureWarning: The behavior of DataFrame concatenation with empty or all-NA entries is deprecated. In a future version, this will no longer exclude empty or all-NA columns when determining the result dtypes. To retain the old behavior, exclude the relevant entries before the concat operation.\n",
      "  all_players_stats = pd.concat([all_players_stats, df], ignore_index=True)\n",
      "c:\\Users\\mario\\Documents\\proyectos\\recomendador_biwenger\\data_extraction\\SofascoreDataExtractor.py:188: FutureWarning: The behavior of DataFrame concatenation with empty or all-NA entries is deprecated. In a future version, this will no longer exclude empty or all-NA columns when determining the result dtypes. To retain the old behavior, exclude the relevant entries before the concat operation.\n",
      "  all_players_stats = pd.concat([all_players_stats, df], ignore_index=True)\n",
      "c:\\Users\\mario\\Documents\\proyectos\\recomendador_biwenger\\data_extraction\\SofascoreDataExtractor.py:188: FutureWarning: The behavior of DataFrame concatenation with empty or all-NA entries is deprecated. In a future version, this will no longer exclude empty or all-NA columns when determining the result dtypes. To retain the old behavior, exclude the relevant entries before the concat operation.\n",
      "  all_players_stats = pd.concat([all_players_stats, df], ignore_index=True)\n",
      "c:\\Users\\mario\\Documents\\proyectos\\recomendador_biwenger\\data_extraction\\SofascoreDataExtractor.py:188: FutureWarning: The behavior of DataFrame concatenation with empty or all-NA entries is deprecated. In a future version, this will no longer exclude empty or all-NA columns when determining the result dtypes. To retain the old behavior, exclude the relevant entries before the concat operation.\n",
      "  all_players_stats = pd.concat([all_players_stats, df], ignore_index=True)\n",
      "c:\\Users\\mario\\Documents\\proyectos\\recomendador_biwenger\\data_extraction\\SofascoreDataExtractor.py:188: FutureWarning: The behavior of DataFrame concatenation with empty or all-NA entries is deprecated. In a future version, this will no longer exclude empty or all-NA columns when determining the result dtypes. To retain the old behavior, exclude the relevant entries before the concat operation.\n",
      "  all_players_stats = pd.concat([all_players_stats, df], ignore_index=True)\n",
      "c:\\Users\\mario\\Documents\\proyectos\\recomendador_biwenger\\data_extraction\\SofascoreDataExtractor.py:188: FutureWarning: The behavior of DataFrame concatenation with empty or all-NA entries is deprecated. In a future version, this will no longer exclude empty or all-NA columns when determining the result dtypes. To retain the old behavior, exclude the relevant entries before the concat operation.\n",
      "  all_players_stats = pd.concat([all_players_stats, df], ignore_index=True)\n",
      "c:\\Users\\mario\\Documents\\proyectos\\recomendador_biwenger\\data_extraction\\SofascoreDataExtractor.py:188: FutureWarning: The behavior of DataFrame concatenation with empty or all-NA entries is deprecated. In a future version, this will no longer exclude empty or all-NA columns when determining the result dtypes. To retain the old behavior, exclude the relevant entries before the concat operation.\n",
      "  all_players_stats = pd.concat([all_players_stats, df], ignore_index=True)\n",
      "c:\\Users\\mario\\Documents\\proyectos\\recomendador_biwenger\\data_extraction\\SofascoreDataExtractor.py:188: FutureWarning: The behavior of DataFrame concatenation with empty or all-NA entries is deprecated. In a future version, this will no longer exclude empty or all-NA columns when determining the result dtypes. To retain the old behavior, exclude the relevant entries before the concat operation.\n",
      "  all_players_stats = pd.concat([all_players_stats, df], ignore_index=True)\n"
     ]
    },
    {
     "name": "stdout",
     "output_type": "stream",
     "text": [
      "Datos guardados en la carpeta '../data'.\n"
     ]
    }
   ],
   "source": [
    "import sys\n",
    "import os\n",
    "\n",
    "# Añadir el directorio 'data_extraction' al sys.path\n",
    "sys.path.append(os.path.abspath('../data_extraction'))\n",
    "\n",
    "from SofascoreDataExtractor import SofascoreDataExtractor\n",
    "import os\n",
    "import pandas as pd\n",
    "\n",
    "# Crear una instancia de la clase SofascoreDataExtractor\n",
    "api_extractor = SofascoreDataExtractor()\n",
    "\n",
    "# Crear la carpeta 'data' si no existe\n",
    "if not os.path.exists('../data'):\n",
    "    os.makedirs('../data')\n",
    "\n",
    "# Obtener y guardar la clasificación total\n",
    "league_standings_total = api_extractor.get_league_standings(\"total\")\n",
    "league_standings_total.to_csv('../data/league_standings_total.csv', index=False)\n",
    "\n",
    "# Obtener y guardar la clasificación como local\n",
    "league_standings_home = api_extractor.get_league_standings(\"home\")\n",
    "league_standings_home.to_csv('../data/league_standings_home.csv', index=False)\n",
    "\n",
    "# Obtener y guardar la clasificación como visitante\n",
    "league_standings_away = api_extractor.get_league_standings(\"away\")\n",
    "league_standings_away.to_csv('../data/league_standings_away.csv', index=False)\n",
    "\n",
    "# Obtener y guardar las estadísticas de todos los equipos\n",
    "team_statistics = api_extractor.get_all_teams_statistics()\n",
    "team_statistics.to_csv('../data/team_statistics.csv', index=False)\n",
    "\n",
    "# Obtener y guardar las estadísticas de todos los jugadores\n",
    "all_player_stats = api_extractor.get_all_player_statistics()\n",
    "all_player_stats.to_csv('../data/all_players_statistics.csv', index=False)\n",
    "\n",
    "print(\"Datos guardados en la carpeta '../data'.\")"
   ]
  }
 ],
 "metadata": {
  "kernelspec": {
   "display_name": "base",
   "language": "python",
   "name": "python3"
  },
  "language_info": {
   "codemirror_mode": {
    "name": "ipython",
    "version": 3
   },
   "file_extension": ".py",
   "mimetype": "text/x-python",
   "name": "python",
   "nbconvert_exporter": "python",
   "pygments_lexer": "ipython3",
   "version": "3.9.12"
  }
 },
 "nbformat": 4,
 "nbformat_minor": 2
}
