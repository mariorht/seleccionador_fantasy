{
 "cells": [
  {
   "cell_type": "code",
   "execution_count": 2,
   "metadata": {},
   "outputs": [
    {
     "name": "stdout",
     "output_type": "stream",
     "text": [
      "Datos guardados en la carpeta '../data'.\n"
     ]
    }
   ],
   "source": [
    "import sys\n",
    "import os\n",
    "\n",
    "sys.path.append(os.path.abspath('..'))\n",
    "\n",
    "from data_extraction.SofascoreDataExtractor import SofascoreDataExtractor\n",
    "import os\n",
    "import pandas as pd\n",
    "\n",
    "# Crear una instancia de la clase SofascoreDataExtractor\n",
    "api_extractor = SofascoreDataExtractor()\n",
    "\n",
    "# Crear la carpeta 'data' si no existe\n",
    "if not os.path.exists('../data'):\n",
    "    os.makedirs('../data')\n",
    "\n",
    "# Obtener y guardar la clasificación total\n",
    "league_standings_total = api_extractor.get_league_standings(\"total\")\n",
    "league_standings_total.to_csv('../data/league_standings_total.csv', index=False)\n",
    "\n",
    "# Obtener y guardar la clasificación como local\n",
    "league_standings_home = api_extractor.get_league_standings(\"home\")\n",
    "league_standings_home.to_csv('../data/league_standings_home.csv', index=False)\n",
    "\n",
    "# Obtener y guardar la clasificación como visitante\n",
    "league_standings_away = api_extractor.get_league_standings(\"away\")\n",
    "league_standings_away.to_csv('../data/league_standings_away.csv', index=False)\n",
    "\n",
    "# Obtener y guardar las estadísticas de todos los equipos\n",
    "team_statistics = api_extractor.get_all_teams_statistics()\n",
    "team_statistics.to_csv('../data/team_statistics.csv', index=False)\n",
    "\n",
    "# Obtener y guardar las estadísticas de todos los jugadores\n",
    "# all_player_stats = api_extractor.get_all_player_statistics()\n",
    "# all_player_stats.to_csv('../data/all_players_statistics.csv', index=False)\n",
    "\n",
    "#Fotos\n",
    "api_extractor.download_player_images('../data/images/')\n",
    "\n",
    "print(\"Datos guardados en la carpeta '../data'.\")"
   ]
  }
 ],
 "metadata": {
  "kernelspec": {
   "display_name": "base",
   "language": "python",
   "name": "python3"
  },
  "language_info": {
   "codemirror_mode": {
    "name": "ipython",
    "version": 3
   },
   "file_extension": ".py",
   "mimetype": "text/x-python",
   "name": "python",
   "nbconvert_exporter": "python",
   "pygments_lexer": "ipython3",
   "version": "3.9.12"
  }
 },
 "nbformat": 4,
 "nbformat_minor": 2
}
