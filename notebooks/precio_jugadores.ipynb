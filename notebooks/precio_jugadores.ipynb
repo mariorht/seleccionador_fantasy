{
 "cells": [
  {
   "cell_type": "code",
   "execution_count": 2,
   "metadata": {},
   "outputs": [
    {
     "name": "stdout",
     "output_type": "stream",
     "text": [
      "            Jugador    Precio\n",
      "0        Bellingham  53000000\n",
      "1            Dovbyk  24000000\n",
      "2             Sávio  10000000\n",
      "3          Williams  34000000\n",
      "4           Sørloth  30000000\n",
      "..              ...       ...\n",
      "430         Fuidias   7000000\n",
      "431     Pablo Marín   7000000\n",
      "432    Matías Árbol   7000000\n",
      "433  Alberto Flores   7000000\n",
      "434     Adama Boiro   7000000\n",
      "\n",
      "[435 rows x 2 columns]\n"
     ]
    }
   ],
   "source": [
    "import sys\n",
    "import os\n",
    "import pandas as pd\n",
    "\n",
    "# Cargar el archivo CSV\n",
    "file_path = 'datos_jugadores_biwenger.csv'\n",
    "df = pd.read_csv(file_path, delimiter=';')\n",
    "\n",
    "# Mostrar el precio de cada jugador\n",
    "print(df[['Jugador', 'Precio']])\n"
   ]
  },
  {
   "cell_type": "code",
   "execution_count": 9,
   "metadata": {},
   "outputs": [
    {
     "name": "stdout",
     "output_type": "stream",
     "text": [
      "         Player Name    Precio\n",
      "0    jude-bellingham  53000000\n",
      "1     inaki-williams  34000000\n",
      "2       lamine-yamal   8000000\n",
      "3               isco  16000000\n",
      "4         iago-aspas  45000000\n",
      "..               ...       ...\n",
      "323     unai-marrero   9000000\n",
      "324        jose-pozo   8000000\n",
      "325     thomas-lemar  21000000\n",
      "326  cristian-rivero   7000000\n",
      "327  aaron-escandell   8000000\n",
      "\n",
      "[323 rows x 2 columns]\n"
     ]
    }
   ],
   "source": [
    "import pandas as pd\n",
    "from fuzzywuzzy import process, fuzz\n",
    "\n",
    "# Cargar los archivos CSV\n",
    "df_biwenger = pd.read_csv('datos_jugadores_biwenger.csv', delimiter=';')\n",
    "df_statistics = pd.read_csv('all_players_statistics.csv')\n",
    "\n",
    "# Función para encontrar el nombre más similar\n",
    "def find_best_match(name, choices, scorer, threshold=80):\n",
    "    best_match, score = process.extractOne(name, choices, scorer=scorer)\n",
    "    return best_match if score >= threshold else None\n",
    "\n",
    "# Crear un diccionario para almacenar las coincidencias\n",
    "matches = {}\n",
    "\n",
    "# Lista de nombres en el archivo de estadísticas\n",
    "statistics_names = df_statistics['Player Name'].tolist()\n",
    "\n",
    "# Encontrar las mejores coincidencias para cada nombre en el archivo de biwenger\n",
    "for player in df_biwenger['Jugador']:\n",
    "    best_match = find_best_match(player, statistics_names, fuzz.token_set_ratio)\n",
    "    matches[player] = best_match\n",
    "\n",
    "# Crear una nueva columna en el dataframe de biwenger con los nombres coincidentes\n",
    "df_biwenger['Player Name'] = df_biwenger['Jugador'].map(matches)\n",
    "\n",
    "# Filtrar filas donde no se encontró una coincidencia adecuada\n",
    "df_biwenger = df_biwenger.dropna(subset=['Player Name'])\n",
    "\n",
    "# Unir ambos dataframes utilizando la columna 'Player Name'\n",
    "merged_df = pd.merge(df_biwenger, df_statistics, on='Player Name')\n",
    "\n",
    "# Eliminar duplicados basados en una columna clave, por ejemplo, 'Player Name'\n",
    "merged_df = merged_df.drop_duplicates(subset=['Player Name'])\n",
    "\n",
    "# Eliminar la columna 'Jugador'\n",
    "merged_df = merged_df.drop(columns=['Jugador'])\n",
    "\n",
    "# Eliminar la columna 'Team'\n",
    "merged_df = merged_df.drop(columns=['Team'])\n",
    "\n",
    "# Reordenar las columnas para que 'Player Name' sea la primera\n",
    "columns_order = ['Player Name'] + [col for col in merged_df.columns if col != 'Player Name']\n",
    "merged_df = merged_df[columns_order]\n",
    "\n",
    "# Guardar el dataframe combinado en un nuevo archivo CSV\n",
    "output_path = 'players_prize.csv'\n",
    "merged_df.to_csv(output_path, index=False)\n",
    "\n",
    "# Mostrar el precio y el nombre del jugador\n",
    "print(merged_df[['Player Name', 'Precio']])\n"
   ]
  }
 ],
 "metadata": {
  "kernelspec": {
   "display_name": "base",
   "language": "python",
   "name": "python3"
  },
  "language_info": {
   "codemirror_mode": {
    "name": "ipython",
    "version": 3
   },
   "file_extension": ".py",
   "mimetype": "text/x-python",
   "name": "python",
   "nbconvert_exporter": "python",
   "pygments_lexer": "ipython3",
   "version": "3.9.12"
  }
 },
 "nbformat": 4,
 "nbformat_minor": 2
}
