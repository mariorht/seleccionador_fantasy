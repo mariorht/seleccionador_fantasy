{
 "cells": [
  {
   "cell_type": "code",
   "execution_count": 2,
   "metadata": {},
   "outputs": [
    {
     "name": "stdout",
     "output_type": "stream",
     "text": [
      "            Jugador    Precio\n",
      "0        Bellingham  53000000\n",
      "1            Dovbyk  24000000\n",
      "2             Sávio  10000000\n",
      "3          Williams  34000000\n",
      "4           Sørloth  30000000\n",
      "..              ...       ...\n",
      "430         Fuidias   7000000\n",
      "431     Pablo Marín   7000000\n",
      "432    Matías Árbol   7000000\n",
      "433  Alberto Flores   7000000\n",
      "434     Adama Boiro   7000000\n",
      "\n",
      "[435 rows x 2 columns]\n"
     ]
    }
   ],
   "source": [
    "import sys\n",
    "import os\n",
    "import pandas as pd\n",
    "\n",
    "# Cargar el archivo CSV\n",
    "file_path = 'datos_jugadores_biwenger.csv'\n",
    "df = pd.read_csv(file_path, delimiter=';')\n",
    "\n",
    "# Mostrar el precio de cada jugador\n",
    "print(df[['Jugador', 'Precio']])\n"
   ]
  },
  {
   "cell_type": "code",
   "execution_count": 5,
   "metadata": {},
   "outputs": [
    {
     "name": "stdout",
     "output_type": "stream",
     "text": [
      "           Player Name    Precio\n",
      "0      jude-bellingham  53000000\n",
      "1        mamadou-mbaye  24000000\n",
      "2                 gavi  10000000\n",
      "3        nico-williams  34000000\n",
      "4    alexander-sorloth  30000000\n",
      "..                 ...       ...\n",
      "430          rui-silva   7000000\n",
      "431       pablo-maffeo   7000000\n",
      "432       matias-arezo   7000000\n",
      "433     alberto-moreno   7000000\n",
      "434         aimar-oroz   7000000\n",
      "\n",
      "[435 rows x 2 columns]\n"
     ]
    }
   ],
   "source": [
    "import pandas as pd\n",
    "from fuzzywuzzy import process, fuzz\n",
    "\n",
    "# Cargar los archivos CSV\n",
    "df_biwenger = pd.read_csv('datos_jugadores_biwenger.csv', delimiter=';')\n",
    "df_statistics = pd.read_csv('all_players_statistics.csv')\n",
    "\n",
    "# Función para encontrar el nombre más similar\n",
    "def find_best_match(name, choices, scorer):\n",
    "    best_match, score = process.extractOne(name, choices, scorer=scorer)\n",
    "    return best_match, score\n",
    "\n",
    "# Crear un diccionario para almacenar las coincidencias\n",
    "matches = {}\n",
    "\n",
    "# Lista de nombres en el archivo de estadísticas\n",
    "statistics_names = df_statistics['Player Name'].tolist()\n",
    "\n",
    "# Encontrar las mejores coincidencias para cada nombre en el archivo de biwenger\n",
    "for player in df_biwenger['Jugador']:\n",
    "    best_match, score = find_best_match(player, statistics_names, fuzz.ratio)\n",
    "    matches[player] = best_match\n",
    "\n",
    "# Crear una nueva columna en el dataframe de biwenger con los nombres coincidentes\n",
    "df_biwenger['Player Name'] = df_biwenger['Jugador'].map(matches)\n",
    "\n",
    "# Unir ambos dataframes utilizando la columna 'Player Name'\n",
    "merged_df = pd.merge(df_biwenger, df_statistics, on='Player Name')\n",
    "\n",
    "# Guardar el dataframe combinado en un nuevo archivo CSV\n",
    "output_path = 'players_prize.csv'\n",
    "merged_df.to_csv(output_path, index=False)\n",
    "\n",
    "# Mostrar el precio y el nombre del jugador\n",
    "print(merged_df[['Player Name', 'Precio']])\n"
   ]
  }
 ],
 "metadata": {
  "kernelspec": {
   "display_name": "base",
   "language": "python",
   "name": "python3"
  },
  "language_info": {
   "codemirror_mode": {
    "name": "ipython",
    "version": 3
   },
   "file_extension": ".py",
   "mimetype": "text/x-python",
   "name": "python",
   "nbconvert_exporter": "python",
   "pygments_lexer": "ipython3",
   "version": "3.9.12"
  }
 },
 "nbformat": 4,
 "nbformat_minor": 2
}
